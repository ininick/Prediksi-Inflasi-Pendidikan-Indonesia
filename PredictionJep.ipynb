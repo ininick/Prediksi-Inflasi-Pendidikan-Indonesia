{
 "cells": [
  {
   "cell_type": "code",
   "execution_count": 167,
   "metadata": {},
   "outputs": [],
   "source": [
    "import pandas as pd\n",
    "import numpy as np\n",
    "import seaborn as sns\n",
    "import os\n",
    "import warnings\n",
    "warnings.filterwarnings('ignore')"
   ]
  },
  {
   "cell_type": "code",
   "execution_count": 138,
   "metadata": {},
   "outputs": [],
   "source": [
    "# names = os.listdir(\"./fix_dataset/dataset_InflasiPendidikan/\")\n",
    "# names = names[1:]\n",
    "# names = ['Inflasi Pendidikan 2020-Lainnya.csv',\n",
    "#  'Inflasi Pendidikan 2020-Menengah.csv',\n",
    "#  'Inflasi Pendidikan 2020-Pendidikan.csv',\n",
    "#  'Inflasi Pendidikan 2020-Tinggi.csv',\n",
    "#  'Inflasi Pendidikan 2021-Lainnya.csv',\n",
    "#  'Inflasi Pendidikan 2021-Menengah.csv',\n",
    "#  'Inflasi Pendidikan 2021-Pendidikan.csv',\n",
    "#  'Inflasi Pendidikan 2021-Tinggi.csv',\n",
    "#  'Inflasi Pendidikan 2022-Lainnya.csv',\n",
    "#  'Inflasi Pendidikan 2022-Menengah.csv',\n",
    "#  'Inflasi Pendidikan 2022-Pendidikan.csv',\n",
    "#  'Inflasi Pendidikan 2022-Tinggi.csv',\n",
    "#  'Inflasi Pendidikan 2023-Lainnya.csv',\n",
    "#  'Inflasi Pendidikan 2023-Menengah.csv',\n",
    "#  'Inflasi Pendidikan 2023-Pendidikan.csv',\n",
    "#  'Inflasi Pendidikan 2023-Tinggi.csv']"
   ]
  },
  {
   "cell_type": "code",
   "execution_count": 191,
   "metadata": {},
   "outputs": [],
   "source": [
    "path1 = './fix_dataset/dataset_InflasiPendidikan/Inflasi Pendidikan 2022-Tinggi.csv'\n",
    "path2 = './fix_dataset/dataset_InflasiPendidikan/Inflasi Pendidikan 2023-Tinggi.csv'\n",
    "path3 = './fix_dataset/dataset_InflasiPendidikan/Inflasi Pendidikan 2021-Tinggi.csv'\n",
    "path4 = './fix_dataset/dataset_InflasiPendidikan/Inflasi Pendidikan 2020-Tinggi.csv'"
   ]
  },
  {
   "cell_type": "code",
   "execution_count": 155,
   "metadata": {},
   "outputs": [],
   "source": [
    "# df = pd.read_csv('./fix_dataset/dataset_InflasiPendidikan/Inflasi Pendidikan 2022-Tinggi.csv')\n",
    "# df.head()\n",
    "# names = ['Inflasi Pendidikan 2020-Lainnya.csv',\n",
    "#  'Inflasi Pendidikan 2020-Menengah.csv',\n",
    "#  'Inflasi Pendidikan 2020-Pendidikan.csv',\n",
    "#  'Inflasi Pendidikan 2020-Tinggi.csv',\n",
    "#  'Inflasi Pendidikan 2021-Lainnya.csv',\n",
    "#  'Inflasi Pendidikan 2021-Menengah.csv',\n",
    "#  'Inflasi Pendidikan 2021-Pendidikan.csv',\n",
    "#  'Inflasi Pendidikan 2021-Tinggi.csv',\n",
    "#  'Inflasi Pendidikan 2022-Lainnya.csv',\n",
    "#  'Inflasi Pendidikan 2022-Menengah.csv',\n",
    "#  'Inflasi Pendidikan 2022-Pendidikan.csv',\n",
    "#  'Inflasi Pendidikan 2022-Tinggi.csv',\n",
    "#  'Inflasi Pendidikan 2023-Lainnya.csv',\n",
    "#  'Inflasi Pendidikan 2023-Menengah.csv',\n",
    "#  'Inflasi Pendidikan 2023-Pendidikan.csv',\n",
    "#  'Inflasi Pendidikan 2023-Tinggi.csv']\n",
    "\n",
    "# # for name in names[1:]:\n",
    "# #     df1 = pd.read_csv(os.path.join(\"./fix_dataset/dataset_InflasiPendidikan\", name))\n",
    "# #     df1['Level'] = level\n",
    "# #     level = name.split('-')[1].split('.')[0]\n",
    "# #     df = pd.merge(df, df1, on='Kota')\n",
    "\n",
    "    "
   ]
  },
  {
   "cell_type": "code",
   "execution_count": 192,
   "metadata": {},
   "outputs": [],
   "source": [
    "df1 = pd.read_csv(path1)\n",
    "df2 = pd.read_csv(path2)\n",
    "df3 = pd.read_csv(path3)\n",
    "df4 = pd.read_csv(path4)"
   ]
  },
  {
   "cell_type": "code",
   "execution_count": 193,
   "metadata": {},
   "outputs": [
    {
     "data": {
      "text/plain": [
       "(91, 13)"
      ]
     },
     "execution_count": 193,
     "metadata": {},
     "output_type": "execute_result"
    }
   ],
   "source": [
    "df1.shape"
   ]
  },
  {
   "cell_type": "code",
   "execution_count": 194,
   "metadata": {},
   "outputs": [],
   "source": [
    "df = pd.merge(df1, df2, on='Kota')\n",
    "# df = pd.merge(df, df3, on='Kota')\n",
    "# df = pd.merge(df, df4, on='Kota')"
   ]
  },
  {
   "cell_type": "code",
   "execution_count": 195,
   "metadata": {},
   "outputs": [
    {
     "data": {
      "text/html": [
       "<div>\n",
       "<style scoped>\n",
       "    .dataframe tbody tr th:only-of-type {\n",
       "        vertical-align: middle;\n",
       "    }\n",
       "\n",
       "    .dataframe tbody tr th {\n",
       "        vertical-align: top;\n",
       "    }\n",
       "\n",
       "    .dataframe thead th {\n",
       "        text-align: right;\n",
       "    }\n",
       "</style>\n",
       "<table border=\"1\" class=\"dataframe\">\n",
       "  <thead>\n",
       "    <tr style=\"text-align: right;\">\n",
       "      <th></th>\n",
       "      <th>Kota</th>\n",
       "      <th>01/01/2022</th>\n",
       "      <th>01/02/2022</th>\n",
       "      <th>01/03/2022</th>\n",
       "      <th>01/04/2022</th>\n",
       "      <th>01/05/2022</th>\n",
       "      <th>01/06/2022</th>\n",
       "      <th>01/07/2022</th>\n",
       "      <th>01/08/2022</th>\n",
       "      <th>01/09/2022</th>\n",
       "      <th>...</th>\n",
       "      <th>01/03/2023</th>\n",
       "      <th>01/04/2023</th>\n",
       "      <th>01/05/2023</th>\n",
       "      <th>01/06/2023</th>\n",
       "      <th>01/07/2023</th>\n",
       "      <th>01/08/2023</th>\n",
       "      <th>01/09/2023</th>\n",
       "      <th>01/10/2023</th>\n",
       "      <th>01/11/2023</th>\n",
       "      <th>01/12/2023</th>\n",
       "    </tr>\n",
       "  </thead>\n",
       "  <tbody>\n",
       "    <tr>\n",
       "      <th>0</th>\n",
       "      <td>KOTA MEULABOH</td>\n",
       "      <td>0.0</td>\n",
       "      <td>0.0</td>\n",
       "      <td>0.0</td>\n",
       "      <td>0.0</td>\n",
       "      <td>0.0</td>\n",
       "      <td>0.0</td>\n",
       "      <td>0.0</td>\n",
       "      <td>0.00</td>\n",
       "      <td>0.0</td>\n",
       "      <td>...</td>\n",
       "      <td>0.0</td>\n",
       "      <td>0.0</td>\n",
       "      <td>0.0</td>\n",
       "      <td>0.0</td>\n",
       "      <td>0.0</td>\n",
       "      <td>0.00</td>\n",
       "      <td>0.0</td>\n",
       "      <td>0.0</td>\n",
       "      <td>NaN</td>\n",
       "      <td>NaN</td>\n",
       "    </tr>\n",
       "    <tr>\n",
       "      <th>1</th>\n",
       "      <td>KOTA BANDA ACEH</td>\n",
       "      <td>0.0</td>\n",
       "      <td>0.0</td>\n",
       "      <td>0.0</td>\n",
       "      <td>0.0</td>\n",
       "      <td>0.0</td>\n",
       "      <td>0.0</td>\n",
       "      <td>0.0</td>\n",
       "      <td>0.00</td>\n",
       "      <td>0.0</td>\n",
       "      <td>...</td>\n",
       "      <td>0.0</td>\n",
       "      <td>0.0</td>\n",
       "      <td>0.0</td>\n",
       "      <td>0.0</td>\n",
       "      <td>0.0</td>\n",
       "      <td>0.00</td>\n",
       "      <td>0.0</td>\n",
       "      <td>0.0</td>\n",
       "      <td>NaN</td>\n",
       "      <td>NaN</td>\n",
       "    </tr>\n",
       "    <tr>\n",
       "      <th>2</th>\n",
       "      <td>KOTA LHOKSEUMAWE</td>\n",
       "      <td>0.0</td>\n",
       "      <td>0.0</td>\n",
       "      <td>0.0</td>\n",
       "      <td>0.0</td>\n",
       "      <td>0.0</td>\n",
       "      <td>0.0</td>\n",
       "      <td>0.0</td>\n",
       "      <td>0.00</td>\n",
       "      <td>0.0</td>\n",
       "      <td>...</td>\n",
       "      <td>0.0</td>\n",
       "      <td>0.0</td>\n",
       "      <td>0.0</td>\n",
       "      <td>0.0</td>\n",
       "      <td>0.0</td>\n",
       "      <td>0.00</td>\n",
       "      <td>0.0</td>\n",
       "      <td>0.0</td>\n",
       "      <td>NaN</td>\n",
       "      <td>NaN</td>\n",
       "    </tr>\n",
       "    <tr>\n",
       "      <th>3</th>\n",
       "      <td>KOTA SIBOLGA</td>\n",
       "      <td>0.0</td>\n",
       "      <td>0.0</td>\n",
       "      <td>0.0</td>\n",
       "      <td>0.0</td>\n",
       "      <td>0.0</td>\n",
       "      <td>0.0</td>\n",
       "      <td>0.0</td>\n",
       "      <td>2.32</td>\n",
       "      <td>0.0</td>\n",
       "      <td>...</td>\n",
       "      <td>0.0</td>\n",
       "      <td>0.0</td>\n",
       "      <td>0.0</td>\n",
       "      <td>0.0</td>\n",
       "      <td>0.0</td>\n",
       "      <td>6.53</td>\n",
       "      <td>0.0</td>\n",
       "      <td>0.0</td>\n",
       "      <td>NaN</td>\n",
       "      <td>NaN</td>\n",
       "    </tr>\n",
       "    <tr>\n",
       "      <th>4</th>\n",
       "      <td>KOTA PEMATANG SIANTAR</td>\n",
       "      <td>0.0</td>\n",
       "      <td>0.0</td>\n",
       "      <td>0.0</td>\n",
       "      <td>0.0</td>\n",
       "      <td>0.0</td>\n",
       "      <td>0.0</td>\n",
       "      <td>0.0</td>\n",
       "      <td>0.00</td>\n",
       "      <td>0.0</td>\n",
       "      <td>...</td>\n",
       "      <td>0.0</td>\n",
       "      <td>0.0</td>\n",
       "      <td>0.0</td>\n",
       "      <td>0.0</td>\n",
       "      <td>0.0</td>\n",
       "      <td>14.46</td>\n",
       "      <td>0.0</td>\n",
       "      <td>0.0</td>\n",
       "      <td>NaN</td>\n",
       "      <td>NaN</td>\n",
       "    </tr>\n",
       "  </tbody>\n",
       "</table>\n",
       "<p>5 rows × 25 columns</p>\n",
       "</div>"
      ],
      "text/plain": [
       "                    Kota  01/01/2022  01/02/2022  01/03/2022  01/04/2022  \\\n",
       "0          KOTA MEULABOH         0.0         0.0         0.0         0.0   \n",
       "1        KOTA BANDA ACEH         0.0         0.0         0.0         0.0   \n",
       "2       KOTA LHOKSEUMAWE         0.0         0.0         0.0         0.0   \n",
       "3           KOTA SIBOLGA         0.0         0.0         0.0         0.0   \n",
       "4  KOTA PEMATANG SIANTAR         0.0         0.0         0.0         0.0   \n",
       "\n",
       "   01/05/2022  01/06/2022  01/07/2022  01/08/2022  01/09/2022  ...  \\\n",
       "0         0.0         0.0         0.0        0.00         0.0  ...   \n",
       "1         0.0         0.0         0.0        0.00         0.0  ...   \n",
       "2         0.0         0.0         0.0        0.00         0.0  ...   \n",
       "3         0.0         0.0         0.0        2.32         0.0  ...   \n",
       "4         0.0         0.0         0.0        0.00         0.0  ...   \n",
       "\n",
       "   01/03/2023  01/04/2023  01/05/2023  01/06/2023  01/07/2023  01/08/2023  \\\n",
       "0         0.0         0.0         0.0         0.0         0.0        0.00   \n",
       "1         0.0         0.0         0.0         0.0         0.0        0.00   \n",
       "2         0.0         0.0         0.0         0.0         0.0        0.00   \n",
       "3         0.0         0.0         0.0         0.0         0.0        6.53   \n",
       "4         0.0         0.0         0.0         0.0         0.0       14.46   \n",
       "\n",
       "   01/09/2023  01/10/2023  01/11/2023  01/12/2023  \n",
       "0         0.0         0.0         NaN         NaN  \n",
       "1         0.0         0.0         NaN         NaN  \n",
       "2         0.0         0.0         NaN         NaN  \n",
       "3         0.0         0.0         NaN         NaN  \n",
       "4         0.0         0.0         NaN         NaN  \n",
       "\n",
       "[5 rows x 25 columns]"
      ]
     },
     "execution_count": 195,
     "metadata": {},
     "output_type": "execute_result"
    }
   ],
   "source": [
    "df.head()"
   ]
  },
  {
   "cell_type": "code",
   "execution_count": 196,
   "metadata": {},
   "outputs": [
    {
     "data": {
      "text/plain": [
       "Index(['Kota', '01/01/2022', '01/02/2022', '01/03/2022', '01/04/2022',\n",
       "       '01/05/2022', '01/06/2022', '01/07/2022', '01/08/2022', '01/09/2022',\n",
       "       '01/10/2022', '01/11/2022', '01/12/2022', '01/01/2023', '01/02/2023',\n",
       "       '01/03/2023', '01/04/2023', '01/05/2023', '01/06/2023', '01/07/2023',\n",
       "       '01/08/2023', '01/09/2023', '01/10/2023', '01/11/2023', '01/12/2023'],\n",
       "      dtype='object')"
      ]
     },
     "execution_count": 196,
     "metadata": {},
     "output_type": "execute_result"
    }
   ],
   "source": [
    "df.columns"
   ]
  },
  {
   "cell_type": "code",
   "execution_count": 197,
   "metadata": {},
   "outputs": [],
   "source": [
    "new_df = pd.DataFrame()"
   ]
  },
  {
   "cell_type": "code",
   "execution_count": 198,
   "metadata": {},
   "outputs": [],
   "source": [
    "melted_df = df.melt(id_vars=['Kota'], var_name='Date', value_name='InflationRate')\n",
    "melted_df['Date'] = pd.to_datetime(melted_df['Date'], format='%d/%m/%Y')\n",
    "melted_df['Year'] = melted_df['Date'].dt.year\n",
    "melted_df['Month'] = melted_df['Date'].dt.month\n",
    "melted_df.drop('Date', axis=1, inplace=True)\n",
    "df = melted_df[['Kota', 'Year', 'Month', 'InflationRate']]"
   ]
  },
  {
   "cell_type": "code",
   "execution_count": 199,
   "metadata": {},
   "outputs": [
    {
     "data": {
      "text/html": [
       "<div>\n",
       "<style scoped>\n",
       "    .dataframe tbody tr th:only-of-type {\n",
       "        vertical-align: middle;\n",
       "    }\n",
       "\n",
       "    .dataframe tbody tr th {\n",
       "        vertical-align: top;\n",
       "    }\n",
       "\n",
       "    .dataframe thead th {\n",
       "        text-align: right;\n",
       "    }\n",
       "</style>\n",
       "<table border=\"1\" class=\"dataframe\">\n",
       "  <thead>\n",
       "    <tr style=\"text-align: right;\">\n",
       "      <th></th>\n",
       "      <th>Kota</th>\n",
       "      <th>Year</th>\n",
       "      <th>Month</th>\n",
       "      <th>InflationRate</th>\n",
       "    </tr>\n",
       "  </thead>\n",
       "  <tbody>\n",
       "    <tr>\n",
       "      <th>0</th>\n",
       "      <td>KOTA MEULABOH</td>\n",
       "      <td>2022</td>\n",
       "      <td>1</td>\n",
       "      <td>0.0</td>\n",
       "    </tr>\n",
       "    <tr>\n",
       "      <th>1</th>\n",
       "      <td>KOTA BANDA ACEH</td>\n",
       "      <td>2022</td>\n",
       "      <td>1</td>\n",
       "      <td>0.0</td>\n",
       "    </tr>\n",
       "    <tr>\n",
       "      <th>2</th>\n",
       "      <td>KOTA LHOKSEUMAWE</td>\n",
       "      <td>2022</td>\n",
       "      <td>1</td>\n",
       "      <td>0.0</td>\n",
       "    </tr>\n",
       "    <tr>\n",
       "      <th>3</th>\n",
       "      <td>KOTA SIBOLGA</td>\n",
       "      <td>2022</td>\n",
       "      <td>1</td>\n",
       "      <td>0.0</td>\n",
       "    </tr>\n",
       "    <tr>\n",
       "      <th>4</th>\n",
       "      <td>KOTA PEMATANG SIANTAR</td>\n",
       "      <td>2022</td>\n",
       "      <td>1</td>\n",
       "      <td>0.0</td>\n",
       "    </tr>\n",
       "  </tbody>\n",
       "</table>\n",
       "</div>"
      ],
      "text/plain": [
       "                    Kota  Year  Month  InflationRate\n",
       "0          KOTA MEULABOH  2022      1            0.0\n",
       "1        KOTA BANDA ACEH  2022      1            0.0\n",
       "2       KOTA LHOKSEUMAWE  2022      1            0.0\n",
       "3           KOTA SIBOLGA  2022      1            0.0\n",
       "4  KOTA PEMATANG SIANTAR  2022      1            0.0"
      ]
     },
     "execution_count": 199,
     "metadata": {},
     "output_type": "execute_result"
    }
   ],
   "source": [
    "df.head()"
   ]
  },
  {
   "cell_type": "code",
   "execution_count": 200,
   "metadata": {},
   "outputs": [
    {
     "data": {
      "text/plain": [
       "array(['KOTA MEULABOH', 'KOTA BANDA ACEH', 'KOTA LHOKSEUMAWE',\n",
       "       'KOTA SIBOLGA', 'KOTA PEMATANG SIANTAR', 'KOTA MEDAN',\n",
       "       'KOTA PADANGSIDIMPUAN', 'KOTA GUNUNGSITOLI', 'KOTA PADANG',\n",
       "       'KOTA BUKITTINGGI', 'TEMBILAHAN', 'KOTA PEKANBARU', 'KOTA DUMAI',\n",
       "       'BUNGO', 'KOTA JAMBI', 'KOTA PALEMBANG', 'KOTA LUBUKLINGGAU',\n",
       "       'KOTA BENGKULU', 'KOTA BANDAR LAMPUNG', 'KOTA METRO',\n",
       "       'TANJUNG PANDAN', 'KOTA PANGKAL PINANG', 'KOTA BATAM',\n",
       "       'KOTA TANJUNG PINANG', 'DKI JAKARTA', 'KOTA BOGOR',\n",
       "       'KOTA SUKABUMI', 'KOTA BANDUNG', 'KOTA CIREBON', 'KOTA BEKASI',\n",
       "       'KOTA DEPOK', 'KOTA TASIKMALAYA', 'CILACAP', 'PURWOKERTO', 'KUDUS',\n",
       "       'KOTA SURAKARTA', 'KOTA SEMARANG', 'KOTA TEGAL', 'KOTA YOGYAKARTA',\n",
       "       'JEMBER', 'BANYUWANGI', 'SUMENEP', 'KOTA KEDIRI', 'KOTA MALANG',\n",
       "       'KOTA PROBOLINGGO', 'KOTA MADIUN', 'KOTA SURABAYA',\n",
       "       'KOTA TANGERANG', 'KOTA CILEGON', 'KOTA SERANG', 'SINGARAJA',\n",
       "       'KOTA DENPASAR', 'KOTA MATARAM', 'KOTA BIMA', 'WAINGAPU',\n",
       "       'MAUMERE', 'KOTA KUPANG', 'SINTANG', 'KOTA PONTIANAK',\n",
       "       'KOTA SINGKAWANG', 'SAMPIT', 'KOTA PALANGKA RAYA', 'KOTA BARU',\n",
       "       'TANJUNG', 'KOTA BANJARMASIN', 'KOTA BALIKPAPAN', 'KOTA SAMARINDA',\n",
       "       'TANJUNG SELOR', 'KOTA TARAKAN', 'KOTA MANADO', 'KOTA KOTAMOBAGU',\n",
       "       'LUWUK', 'KOTA PALU', 'BULUKUMBA', 'WATAMPONE', 'KOTA MAKASSAR',\n",
       "       'KOTA PARE-PARE', 'KOTA PALOPO', 'KOTA KENDARI', 'KOTA BUA-BAU',\n",
       "       'KOTA GORONTALO', 'MAMUJU', 'KOTA AMBON', 'KOTA TUAL',\n",
       "       'KOTA TERNATE', 'MANOKWARI', 'KOTA SORONG', 'MERAUKE', 'TIMIKA',\n",
       "       'KOTA JAYAPURA', 'INDONESIA'], dtype=object)"
      ]
     },
     "execution_count": 200,
     "metadata": {},
     "output_type": "execute_result"
    }
   ],
   "source": [
    "df.Kota.unique()"
   ]
  },
  {
   "cell_type": "code",
   "execution_count": 201,
   "metadata": {},
   "outputs": [
    {
     "data": {
      "text/plain": [
       "Kota               0\n",
       "Year               0\n",
       "Month              0\n",
       "InflationRate    182\n",
       "dtype: int64"
      ]
     },
     "execution_count": 201,
     "metadata": {},
     "output_type": "execute_result"
    }
   ],
   "source": [
    "df.isnull().sum()"
   ]
  },
  {
   "cell_type": "code",
   "execution_count": 202,
   "metadata": {},
   "outputs": [],
   "source": [
    "df['InflationRate'].fillna(0, inplace=True)"
   ]
  },
  {
   "cell_type": "code",
   "execution_count": 203,
   "metadata": {},
   "outputs": [
    {
     "data": {
      "text/plain": [
       "Kota             0\n",
       "Year             0\n",
       "Month            0\n",
       "InflationRate    0\n",
       "dtype: int64"
      ]
     },
     "execution_count": 203,
     "metadata": {},
     "output_type": "execute_result"
    }
   ],
   "source": [
    "df.isnull().sum()"
   ]
  },
  {
   "cell_type": "code",
   "execution_count": 204,
   "metadata": {},
   "outputs": [],
   "source": [
    "df['Level'] = 'Tinggi'"
   ]
  },
  {
   "cell_type": "code",
   "execution_count": 205,
   "metadata": {},
   "outputs": [
    {
     "data": {
      "text/html": [
       "<div>\n",
       "<style scoped>\n",
       "    .dataframe tbody tr th:only-of-type {\n",
       "        vertical-align: middle;\n",
       "    }\n",
       "\n",
       "    .dataframe tbody tr th {\n",
       "        vertical-align: top;\n",
       "    }\n",
       "\n",
       "    .dataframe thead th {\n",
       "        text-align: right;\n",
       "    }\n",
       "</style>\n",
       "<table border=\"1\" class=\"dataframe\">\n",
       "  <thead>\n",
       "    <tr style=\"text-align: right;\">\n",
       "      <th></th>\n",
       "      <th>Kota</th>\n",
       "      <th>Year</th>\n",
       "      <th>Month</th>\n",
       "      <th>InflationRate</th>\n",
       "      <th>Level</th>\n",
       "    </tr>\n",
       "  </thead>\n",
       "  <tbody>\n",
       "    <tr>\n",
       "      <th>0</th>\n",
       "      <td>KOTA MEULABOH</td>\n",
       "      <td>2022</td>\n",
       "      <td>1</td>\n",
       "      <td>0.0</td>\n",
       "      <td>Tinggi</td>\n",
       "    </tr>\n",
       "    <tr>\n",
       "      <th>1</th>\n",
       "      <td>KOTA BANDA ACEH</td>\n",
       "      <td>2022</td>\n",
       "      <td>1</td>\n",
       "      <td>0.0</td>\n",
       "      <td>Tinggi</td>\n",
       "    </tr>\n",
       "    <tr>\n",
       "      <th>2</th>\n",
       "      <td>KOTA LHOKSEUMAWE</td>\n",
       "      <td>2022</td>\n",
       "      <td>1</td>\n",
       "      <td>0.0</td>\n",
       "      <td>Tinggi</td>\n",
       "    </tr>\n",
       "    <tr>\n",
       "      <th>3</th>\n",
       "      <td>KOTA SIBOLGA</td>\n",
       "      <td>2022</td>\n",
       "      <td>1</td>\n",
       "      <td>0.0</td>\n",
       "      <td>Tinggi</td>\n",
       "    </tr>\n",
       "    <tr>\n",
       "      <th>4</th>\n",
       "      <td>KOTA PEMATANG SIANTAR</td>\n",
       "      <td>2022</td>\n",
       "      <td>1</td>\n",
       "      <td>0.0</td>\n",
       "      <td>Tinggi</td>\n",
       "    </tr>\n",
       "  </tbody>\n",
       "</table>\n",
       "</div>"
      ],
      "text/plain": [
       "                    Kota  Year  Month  InflationRate   Level\n",
       "0          KOTA MEULABOH  2022      1            0.0  Tinggi\n",
       "1        KOTA BANDA ACEH  2022      1            0.0  Tinggi\n",
       "2       KOTA LHOKSEUMAWE  2022      1            0.0  Tinggi\n",
       "3           KOTA SIBOLGA  2022      1            0.0  Tinggi\n",
       "4  KOTA PEMATANG SIANTAR  2022      1            0.0  Tinggi"
      ]
     },
     "execution_count": 205,
     "metadata": {},
     "output_type": "execute_result"
    }
   ],
   "source": [
    "df.head()"
   ]
  },
  {
   "cell_type": "code",
   "execution_count": 206,
   "metadata": {},
   "outputs": [],
   "source": [
    "from sklearn.preprocessing import StandardScaler\n",
    "from sklearn.preprocessing import LabelEncoder\n",
    "from sklearn.model_selection import train_test_split"
   ]
  },
  {
   "cell_type": "code",
   "execution_count": 208,
   "metadata": {},
   "outputs": [],
   "source": [
    "# Label Encoder\n",
    "label_encoder = LabelEncoder()\n",
    "\n",
    "df['Level'] = label_encoder.fit_transform(df['Level'])\n",
    "df['Kota'] = label_encoder.fit_transform(df['Kota'])"
   ]
  },
  {
   "cell_type": "code",
   "execution_count": 209,
   "metadata": {},
   "outputs": [],
   "source": [
    "X = df.drop('InflationRate', axis=1)\n",
    "Y = df['InflationRate']"
   ]
  },
  {
   "cell_type": "code",
   "execution_count": 210,
   "metadata": {},
   "outputs": [],
   "source": [
    "X_train, X_test, Y_train, Y_test = train_test_split(X, Y, test_size=0.2, random_state=2)"
   ]
  },
  {
   "cell_type": "code",
   "execution_count": 211,
   "metadata": {},
   "outputs": [],
   "source": [
    "scaler = StandardScaler()\n",
    "\n",
    "X_train = scaler.fit_transform(X_train)\n",
    "X_test = scaler.transform(X_test)"
   ]
  },
  {
   "cell_type": "code",
   "execution_count": 212,
   "metadata": {},
   "outputs": [
    {
     "data": {
      "text/html": [
       "<style>#sk-container-id-10 {color: black;}#sk-container-id-10 pre{padding: 0;}#sk-container-id-10 div.sk-toggleable {background-color: white;}#sk-container-id-10 label.sk-toggleable__label {cursor: pointer;display: block;width: 100%;margin-bottom: 0;padding: 0.3em;box-sizing: border-box;text-align: center;}#sk-container-id-10 label.sk-toggleable__label-arrow:before {content: \"▸\";float: left;margin-right: 0.25em;color: #696969;}#sk-container-id-10 label.sk-toggleable__label-arrow:hover:before {color: black;}#sk-container-id-10 div.sk-estimator:hover label.sk-toggleable__label-arrow:before {color: black;}#sk-container-id-10 div.sk-toggleable__content {max-height: 0;max-width: 0;overflow: hidden;text-align: left;background-color: #f0f8ff;}#sk-container-id-10 div.sk-toggleable__content pre {margin: 0.2em;color: black;border-radius: 0.25em;background-color: #f0f8ff;}#sk-container-id-10 input.sk-toggleable__control:checked~div.sk-toggleable__content {max-height: 200px;max-width: 100%;overflow: auto;}#sk-container-id-10 input.sk-toggleable__control:checked~label.sk-toggleable__label-arrow:before {content: \"▾\";}#sk-container-id-10 div.sk-estimator input.sk-toggleable__control:checked~label.sk-toggleable__label {background-color: #d4ebff;}#sk-container-id-10 div.sk-label input.sk-toggleable__control:checked~label.sk-toggleable__label {background-color: #d4ebff;}#sk-container-id-10 input.sk-hidden--visually {border: 0;clip: rect(1px 1px 1px 1px);clip: rect(1px, 1px, 1px, 1px);height: 1px;margin: -1px;overflow: hidden;padding: 0;position: absolute;width: 1px;}#sk-container-id-10 div.sk-estimator {font-family: monospace;background-color: #f0f8ff;border: 1px dotted black;border-radius: 0.25em;box-sizing: border-box;margin-bottom: 0.5em;}#sk-container-id-10 div.sk-estimator:hover {background-color: #d4ebff;}#sk-container-id-10 div.sk-parallel-item::after {content: \"\";width: 100%;border-bottom: 1px solid gray;flex-grow: 1;}#sk-container-id-10 div.sk-label:hover label.sk-toggleable__label {background-color: #d4ebff;}#sk-container-id-10 div.sk-serial::before {content: \"\";position: absolute;border-left: 1px solid gray;box-sizing: border-box;top: 0;bottom: 0;left: 50%;z-index: 0;}#sk-container-id-10 div.sk-serial {display: flex;flex-direction: column;align-items: center;background-color: white;padding-right: 0.2em;padding-left: 0.2em;position: relative;}#sk-container-id-10 div.sk-item {position: relative;z-index: 1;}#sk-container-id-10 div.sk-parallel {display: flex;align-items: stretch;justify-content: center;background-color: white;position: relative;}#sk-container-id-10 div.sk-item::before, #sk-container-id-10 div.sk-parallel-item::before {content: \"\";position: absolute;border-left: 1px solid gray;box-sizing: border-box;top: 0;bottom: 0;left: 50%;z-index: -1;}#sk-container-id-10 div.sk-parallel-item {display: flex;flex-direction: column;z-index: 1;position: relative;background-color: white;}#sk-container-id-10 div.sk-parallel-item:first-child::after {align-self: flex-end;width: 50%;}#sk-container-id-10 div.sk-parallel-item:last-child::after {align-self: flex-start;width: 50%;}#sk-container-id-10 div.sk-parallel-item:only-child::after {width: 0;}#sk-container-id-10 div.sk-dashed-wrapped {border: 1px dashed gray;margin: 0 0.4em 0.5em 0.4em;box-sizing: border-box;padding-bottom: 0.4em;background-color: white;}#sk-container-id-10 div.sk-label label {font-family: monospace;font-weight: bold;display: inline-block;line-height: 1.2em;}#sk-container-id-10 div.sk-label-container {text-align: center;}#sk-container-id-10 div.sk-container {/* jupyter's `normalize.less` sets `[hidden] { display: none; }` but bootstrap.min.css set `[hidden] { display: none !important; }` so we also need the `!important` here to be able to override the default hidden behavior on the sphinx rendered scikit-learn.org. See: https://github.com/scikit-learn/scikit-learn/issues/21755 */display: inline-block !important;position: relative;}#sk-container-id-10 div.sk-text-repr-fallback {display: none;}</style><div id=\"sk-container-id-10\" class=\"sk-top-container\"><div class=\"sk-text-repr-fallback\"><pre>SVR(kernel=&#x27;linear&#x27;)</pre><b>In a Jupyter environment, please rerun this cell to show the HTML representation or trust the notebook. <br />On GitHub, the HTML representation is unable to render, please try loading this page with nbviewer.org.</b></div><div class=\"sk-container\" hidden><div class=\"sk-item\"><div class=\"sk-estimator sk-toggleable\"><input class=\"sk-toggleable__control sk-hidden--visually\" id=\"sk-estimator-id-10\" type=\"checkbox\" checked><label for=\"sk-estimator-id-10\" class=\"sk-toggleable__label sk-toggleable__label-arrow\">SVR</label><div class=\"sk-toggleable__content\"><pre>SVR(kernel=&#x27;linear&#x27;)</pre></div></div></div></div></div>"
      ],
      "text/plain": [
       "SVR(kernel='linear')"
      ]
     },
     "execution_count": 212,
     "metadata": {},
     "output_type": "execute_result"
    }
   ],
   "source": [
    "from sklearn.svm import SVR\n",
    "from sklearn.ensemble import RandomForestRegressor\n",
    "model = SVR(kernel=\"linear\")\n",
    "# model = RandomForestRegressor()\n",
    "\n",
    "model.fit(X_train, Y_train)\n"
   ]
  },
  {
   "cell_type": "code",
   "execution_count": 214,
   "metadata": {},
   "outputs": [
    {
     "name": "stdout",
     "output_type": "stream",
     "text": [
      "Mse : 1.4465778179709876\n",
      "Mae : 0.24237767618195027\n",
      "R2 : -0.001509355466030593\n"
     ]
    }
   ],
   "source": [
    "from sklearn.metrics import mean_squared_error, r2_score, mean_absolute_error, accuracy_score\n",
    "## Predict Trained Data\n",
    "Y_pred = model.predict(X_train)\n",
    "mse = mean_squared_error(Y_train, Y_pred)\n",
    "mae = mean_absolute_error(Y_train, Y_pred)\n",
    "r2 = r2_score(Y_train, Y_pred)\n",
    "# acc = accuracy_score(Y_train, Y_pred)\n",
    "print(f\"Mse : {mse}\")\n",
    "print(f\"Mae : {mae}\")\n",
    "print(f\"R2 : {r2}\")\n",
    "# print(f\"Acc : {acc}\")"
   ]
  },
  {
   "cell_type": "code",
   "execution_count": 215,
   "metadata": {},
   "outputs": [
    {
     "name": "stdout",
     "output_type": "stream",
     "text": [
      "Mse : 0.5590476666283539\n",
      "Mae : 0.20085939826281451\n",
      "R2 : 1.900242032293331e-05\n"
     ]
    }
   ],
   "source": [
    "from sklearn.metrics import mean_squared_error, r2_score, mean_absolute_error, accuracy_score\n",
    "## Predict Test\n",
    "Y_pred = model.predict(X_test)\n",
    "mse = mean_squared_error(Y_test, Y_pred)\n",
    "mae = mean_absolute_error(Y_test, Y_pred)\n",
    "r2 = r2_score(Y_test, Y_pred)\n",
    "# acc = accuracy_score(Y_train, Y_pred)\n",
    "print(f\"Mse : {mse}\")\n",
    "print(f\"Mae : {mae}\")\n",
    "print(f\"R2 : {r2}\")\n",
    "# print(f\"Acc : {acc}\")"
   ]
  },
  {
   "cell_type": "code",
   "execution_count": null,
   "metadata": {},
   "outputs": [],
   "source": []
  }
 ],
 "metadata": {
  "kernelspec": {
   "display_name": "mesin_belajar",
   "language": "python",
   "name": "python3"
  },
  "language_info": {
   "codemirror_mode": {
    "name": "ipython",
    "version": 3
   },
   "file_extension": ".py",
   "mimetype": "text/x-python",
   "name": "python",
   "nbconvert_exporter": "python",
   "pygments_lexer": "ipython3",
   "version": "3.11.5"
  }
 },
 "nbformat": 4,
 "nbformat_minor": 2
}
