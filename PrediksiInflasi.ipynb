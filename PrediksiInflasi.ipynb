{
 "cells": [
  {
   "cell_type": "code",
   "execution_count": 47,
   "metadata": {},
   "outputs": [],
   "source": [
    "import pandas as pd\n",
    "import numpy as npt\n",
    "import seaborn as sns\n",
    "from matplotlib import pyplot as plt\n"
   ]
  },
  {
   "cell_type": "code",
   "execution_count": 48,
   "metadata": {},
   "outputs": [
    {
     "data": {
      "text/html": [
       "<div>\n",
       "<style scoped>\n",
       "    .dataframe tbody tr th:only-of-type {\n",
       "        vertical-align: middle;\n",
       "    }\n",
       "\n",
       "    .dataframe tbody tr th {\n",
       "        vertical-align: top;\n",
       "    }\n",
       "\n",
       "    .dataframe thead th {\n",
       "        text-align: right;\n",
       "    }\n",
       "</style>\n",
       "<table border=\"1\" class=\"dataframe\">\n",
       "  <thead>\n",
       "    <tr style=\"text-align: right;\">\n",
       "      <th></th>\n",
       "      <th>index</th>\n",
       "      <th>90 Kota Inflasi (2018=100)</th>\n",
       "      <th>Januari</th>\n",
       "      <th>Februari</th>\n",
       "      <th>Maret</th>\n",
       "      <th>April</th>\n",
       "      <th>Mei</th>\n",
       "      <th>Juni</th>\n",
       "      <th>Juli</th>\n",
       "      <th>Agustus</th>\n",
       "      <th>September</th>\n",
       "      <th>Oktober</th>\n",
       "      <th>November</th>\n",
       "      <th>Desember</th>\n",
       "      <th>Tahun</th>\n",
       "    </tr>\n",
       "  </thead>\n",
       "  <tbody>\n",
       "    <tr>\n",
       "      <th>0</th>\n",
       "      <td>0</td>\n",
       "      <td>KOTA MEULABOH</td>\n",
       "      <td>0.00</td>\n",
       "      <td>0.00</td>\n",
       "      <td>0.0</td>\n",
       "      <td>0.0</td>\n",
       "      <td>0.00</td>\n",
       "      <td>0.00</td>\n",
       "      <td>1.01</td>\n",
       "      <td>0.00</td>\n",
       "      <td>0.00</td>\n",
       "      <td>0.00</td>\n",
       "      <td>0.0</td>\n",
       "      <td>0.0</td>\n",
       "      <td>2020</td>\n",
       "    </tr>\n",
       "    <tr>\n",
       "      <th>1</th>\n",
       "      <td>1</td>\n",
       "      <td>KOTA BANDA ACEH</td>\n",
       "      <td>0.03</td>\n",
       "      <td>0.00</td>\n",
       "      <td>0.0</td>\n",
       "      <td>0.0</td>\n",
       "      <td>0.00</td>\n",
       "      <td>0.00</td>\n",
       "      <td>0.00</td>\n",
       "      <td>0.00</td>\n",
       "      <td>0.76</td>\n",
       "      <td>0.00</td>\n",
       "      <td>0.0</td>\n",
       "      <td>0.0</td>\n",
       "      <td>2020</td>\n",
       "    </tr>\n",
       "    <tr>\n",
       "      <th>2</th>\n",
       "      <td>2</td>\n",
       "      <td>KOTA LHOKSEUMAWE</td>\n",
       "      <td>0.00</td>\n",
       "      <td>0.00</td>\n",
       "      <td>0.0</td>\n",
       "      <td>0.0</td>\n",
       "      <td>0.00</td>\n",
       "      <td>0.00</td>\n",
       "      <td>0.07</td>\n",
       "      <td>0.00</td>\n",
       "      <td>5.75</td>\n",
       "      <td>0.00</td>\n",
       "      <td>0.0</td>\n",
       "      <td>0.0</td>\n",
       "      <td>2020</td>\n",
       "    </tr>\n",
       "    <tr>\n",
       "      <th>3</th>\n",
       "      <td>3</td>\n",
       "      <td>KOTA SIBOLGA</td>\n",
       "      <td>2.58</td>\n",
       "      <td>0.00</td>\n",
       "      <td>0.0</td>\n",
       "      <td>0.0</td>\n",
       "      <td>0.00</td>\n",
       "      <td>0.00</td>\n",
       "      <td>0.00</td>\n",
       "      <td>0.00</td>\n",
       "      <td>0.00</td>\n",
       "      <td>0.00</td>\n",
       "      <td>0.0</td>\n",
       "      <td>0.0</td>\n",
       "      <td>2020</td>\n",
       "    </tr>\n",
       "    <tr>\n",
       "      <th>4</th>\n",
       "      <td>4</td>\n",
       "      <td>KOTA PEMATANG SIANTAR</td>\n",
       "      <td>0.00</td>\n",
       "      <td>0.00</td>\n",
       "      <td>0.0</td>\n",
       "      <td>0.0</td>\n",
       "      <td>0.00</td>\n",
       "      <td>0.00</td>\n",
       "      <td>0.00</td>\n",
       "      <td>3.12</td>\n",
       "      <td>0.00</td>\n",
       "      <td>0.00</td>\n",
       "      <td>0.0</td>\n",
       "      <td>0.0</td>\n",
       "      <td>2020</td>\n",
       "    </tr>\n",
       "    <tr>\n",
       "      <th>...</th>\n",
       "      <td>...</td>\n",
       "      <td>...</td>\n",
       "      <td>...</td>\n",
       "      <td>...</td>\n",
       "      <td>...</td>\n",
       "      <td>...</td>\n",
       "      <td>...</td>\n",
       "      <td>...</td>\n",
       "      <td>...</td>\n",
       "      <td>...</td>\n",
       "      <td>...</td>\n",
       "      <td>...</td>\n",
       "      <td>...</td>\n",
       "      <td>...</td>\n",
       "      <td>...</td>\n",
       "    </tr>\n",
       "    <tr>\n",
       "      <th>359</th>\n",
       "      <td>86</td>\n",
       "      <td>KOTA SORONG</td>\n",
       "      <td>0.06</td>\n",
       "      <td>0.00</td>\n",
       "      <td>0.0</td>\n",
       "      <td>0.0</td>\n",
       "      <td>0.00</td>\n",
       "      <td>0.00</td>\n",
       "      <td>0.00</td>\n",
       "      <td>-3.04</td>\n",
       "      <td>0.00</td>\n",
       "      <td>0.00</td>\n",
       "      <td>0.0</td>\n",
       "      <td>0.0</td>\n",
       "      <td>2023</td>\n",
       "    </tr>\n",
       "    <tr>\n",
       "      <th>360</th>\n",
       "      <td>87</td>\n",
       "      <td>MERAUKE</td>\n",
       "      <td>0.00</td>\n",
       "      <td>0.00</td>\n",
       "      <td>0.0</td>\n",
       "      <td>0.0</td>\n",
       "      <td>0.00</td>\n",
       "      <td>0.87</td>\n",
       "      <td>1.37</td>\n",
       "      <td>0.81</td>\n",
       "      <td>0.00</td>\n",
       "      <td>0.00</td>\n",
       "      <td>0.0</td>\n",
       "      <td>0.0</td>\n",
       "      <td>2023</td>\n",
       "    </tr>\n",
       "    <tr>\n",
       "      <th>361</th>\n",
       "      <td>88</td>\n",
       "      <td>TIMIKA</td>\n",
       "      <td>1.09</td>\n",
       "      <td>0.00</td>\n",
       "      <td>0.0</td>\n",
       "      <td>0.0</td>\n",
       "      <td>0.00</td>\n",
       "      <td>0.00</td>\n",
       "      <td>0.00</td>\n",
       "      <td>0.00</td>\n",
       "      <td>0.00</td>\n",
       "      <td>0.00</td>\n",
       "      <td>0.0</td>\n",
       "      <td>0.0</td>\n",
       "      <td>2023</td>\n",
       "    </tr>\n",
       "    <tr>\n",
       "      <th>362</th>\n",
       "      <td>89</td>\n",
       "      <td>KOTA JAYAPURA</td>\n",
       "      <td>0.00</td>\n",
       "      <td>0.00</td>\n",
       "      <td>0.0</td>\n",
       "      <td>0.0</td>\n",
       "      <td>0.00</td>\n",
       "      <td>0.00</td>\n",
       "      <td>5.18</td>\n",
       "      <td>0.00</td>\n",
       "      <td>0.00</td>\n",
       "      <td>0.00</td>\n",
       "      <td>0.0</td>\n",
       "      <td>0.0</td>\n",
       "      <td>2023</td>\n",
       "    </tr>\n",
       "    <tr>\n",
       "      <th>363</th>\n",
       "      <td>90</td>\n",
       "      <td>INDONESIA</td>\n",
       "      <td>0.12</td>\n",
       "      <td>0.03</td>\n",
       "      <td>0.0</td>\n",
       "      <td>0.0</td>\n",
       "      <td>0.01</td>\n",
       "      <td>0.01</td>\n",
       "      <td>0.66</td>\n",
       "      <td>0.86</td>\n",
       "      <td>0.21</td>\n",
       "      <td>0.07</td>\n",
       "      <td>0.0</td>\n",
       "      <td>0.0</td>\n",
       "      <td>2023</td>\n",
       "    </tr>\n",
       "  </tbody>\n",
       "</table>\n",
       "<p>364 rows × 15 columns</p>\n",
       "</div>"
      ],
      "text/plain": [
       "     index 90 Kota Inflasi (2018=100)  Januari  Februari  Maret  April   Mei  \\\n",
       "0        0              KOTA MEULABOH     0.00      0.00    0.0    0.0  0.00   \n",
       "1        1            KOTA BANDA ACEH     0.03      0.00    0.0    0.0  0.00   \n",
       "2        2           KOTA LHOKSEUMAWE     0.00      0.00    0.0    0.0  0.00   \n",
       "3        3               KOTA SIBOLGA     2.58      0.00    0.0    0.0  0.00   \n",
       "4        4      KOTA PEMATANG SIANTAR     0.00      0.00    0.0    0.0  0.00   \n",
       "..     ...                        ...      ...       ...    ...    ...   ...   \n",
       "359     86                KOTA SORONG     0.06      0.00    0.0    0.0  0.00   \n",
       "360     87                    MERAUKE     0.00      0.00    0.0    0.0  0.00   \n",
       "361     88                     TIMIKA     1.09      0.00    0.0    0.0  0.00   \n",
       "362     89              KOTA JAYAPURA     0.00      0.00    0.0    0.0  0.00   \n",
       "363     90                  INDONESIA     0.12      0.03    0.0    0.0  0.01   \n",
       "\n",
       "     Juni  Juli  Agustus  September  Oktober  November  Desember  Tahun  \n",
       "0    0.00  1.01     0.00       0.00     0.00       0.0       0.0   2020  \n",
       "1    0.00  0.00     0.00       0.76     0.00       0.0       0.0   2020  \n",
       "2    0.00  0.07     0.00       5.75     0.00       0.0       0.0   2020  \n",
       "3    0.00  0.00     0.00       0.00     0.00       0.0       0.0   2020  \n",
       "4    0.00  0.00     3.12       0.00     0.00       0.0       0.0   2020  \n",
       "..    ...   ...      ...        ...      ...       ...       ...    ...  \n",
       "359  0.00  0.00    -3.04       0.00     0.00       0.0       0.0   2023  \n",
       "360  0.87  1.37     0.81       0.00     0.00       0.0       0.0   2023  \n",
       "361  0.00  0.00     0.00       0.00     0.00       0.0       0.0   2023  \n",
       "362  0.00  5.18     0.00       0.00     0.00       0.0       0.0   2023  \n",
       "363  0.01  0.66     0.86       0.21     0.07       0.0       0.0   2023  \n",
       "\n",
       "[364 rows x 15 columns]"
      ]
     },
     "execution_count": 48,
     "metadata": {},
     "output_type": "execute_result"
    }
   ],
   "source": [
    "#READ DATA FROM INFLASI PENDIDIKAN 2020-2023 SECTION: PENDIDIKAN\n",
    "pendidikan_if2020 = pd.read_csv('./dataset/Inflasi Pendidikan 2020-Pendidikan.csv') \n",
    "pendidikan_if2020['Tahun'] = 2020\n",
    "pendidikan_if2021 = pd.read_csv('./dataset/Inflasi Pendidikan 2021-Pendidikan.csv') \n",
    "pendidikan_if2021['Tahun'] = 2021\n",
    "pendidikan_if2022 = pd.read_csv('./dataset/Inflasi Pendidikan 2022-Pendidikan.csv') \n",
    "pendidikan_if2022['Tahun'] = 2022\n",
    "pendidikan_if2023 = pd.read_csv('./dataset/Inflasi Pendidikan 2023-Pendidikan.csv') \n",
    "pendidikan_if2023['Tahun'] = 2023\n",
    "\n",
    "pendidikan_if2023['November'] = pendidikan_if2023['November'].fillna(0)\n",
    "pendidikan_if2023['Desember'] = pendidikan_if2023['Desember'].fillna(0)\n",
    "pendidikan_if2023\n",
    "\n",
    "df_pendidikan_if_merged = pd.concat([pendidikan_if2020, pendidikan_if2021, pendidikan_if2022, pendidikan_if2023], sort=False)\n",
    "df_pendidikan_if_merged.reset_index(drop=False, inplace=True)\n",
    "df_pendidikan_if_merged"
   ]
  },
  {
   "cell_type": "code",
   "execution_count": 51,
   "metadata": {},
   "outputs": [
    {
     "ename": "ValueError",
     "evalue": "could not convert string to float: 'KOTA MEULABOH'",
     "output_type": "error",
     "traceback": [
      "\u001b[1;31m---------------------------------------------------------------------------\u001b[0m",
      "\u001b[1;31mValueError\u001b[0m                                Traceback (most recent call last)",
      "Cell \u001b[1;32mIn[51], line 2\u001b[0m\n\u001b[0;32m      1\u001b[0m plt\u001b[38;5;241m.\u001b[39mfigure(figsize\u001b[38;5;241m=\u001b[39m(\u001b[38;5;241m10\u001b[39m,\u001b[38;5;241m10\u001b[39m))\n\u001b[1;32m----> 2\u001b[0m sns\u001b[38;5;241m.\u001b[39mheatmap(df_pendidikan_if_merged\u001b[38;5;241m.\u001b[39mcorr(), annot\u001b[38;5;241m=\u001b[39m\u001b[38;5;28;01mTrue\u001b[39;00m)\n",
      "File \u001b[1;32mc:\\Users\\Nick Mathew\\anaconda3\\envs\\machine_learning\\Lib\\site-packages\\pandas\\core\\frame.py:10704\u001b[0m, in \u001b[0;36mDataFrame.corr\u001b[1;34m(self, method, min_periods, numeric_only)\u001b[0m\n\u001b[0;32m  10702\u001b[0m cols \u001b[38;5;241m=\u001b[39m data\u001b[38;5;241m.\u001b[39mcolumns\n\u001b[0;32m  10703\u001b[0m idx \u001b[38;5;241m=\u001b[39m cols\u001b[38;5;241m.\u001b[39mcopy()\n\u001b[1;32m> 10704\u001b[0m mat \u001b[38;5;241m=\u001b[39m data\u001b[38;5;241m.\u001b[39mto_numpy(dtype\u001b[38;5;241m=\u001b[39m\u001b[38;5;28mfloat\u001b[39m, na_value\u001b[38;5;241m=\u001b[39mnp\u001b[38;5;241m.\u001b[39mnan, copy\u001b[38;5;241m=\u001b[39m\u001b[38;5;28;01mFalse\u001b[39;00m)\n\u001b[0;32m  10706\u001b[0m \u001b[38;5;28;01mif\u001b[39;00m method \u001b[38;5;241m==\u001b[39m \u001b[38;5;124m\"\u001b[39m\u001b[38;5;124mpearson\u001b[39m\u001b[38;5;124m\"\u001b[39m:\n\u001b[0;32m  10707\u001b[0m     correl \u001b[38;5;241m=\u001b[39m libalgos\u001b[38;5;241m.\u001b[39mnancorr(mat, minp\u001b[38;5;241m=\u001b[39mmin_periods)\n",
      "File \u001b[1;32mc:\\Users\\Nick Mathew\\anaconda3\\envs\\machine_learning\\Lib\\site-packages\\pandas\\core\\frame.py:1889\u001b[0m, in \u001b[0;36mDataFrame.to_numpy\u001b[1;34m(self, dtype, copy, na_value)\u001b[0m\n\u001b[0;32m   1887\u001b[0m \u001b[38;5;28;01mif\u001b[39;00m dtype \u001b[38;5;129;01mis\u001b[39;00m \u001b[38;5;129;01mnot\u001b[39;00m \u001b[38;5;28;01mNone\u001b[39;00m:\n\u001b[0;32m   1888\u001b[0m     dtype \u001b[38;5;241m=\u001b[39m np\u001b[38;5;241m.\u001b[39mdtype(dtype)\n\u001b[1;32m-> 1889\u001b[0m result \u001b[38;5;241m=\u001b[39m \u001b[38;5;28mself\u001b[39m\u001b[38;5;241m.\u001b[39m_mgr\u001b[38;5;241m.\u001b[39mas_array(dtype\u001b[38;5;241m=\u001b[39mdtype, copy\u001b[38;5;241m=\u001b[39mcopy, na_value\u001b[38;5;241m=\u001b[39mna_value)\n\u001b[0;32m   1890\u001b[0m \u001b[38;5;28;01mif\u001b[39;00m result\u001b[38;5;241m.\u001b[39mdtype \u001b[38;5;129;01mis\u001b[39;00m \u001b[38;5;129;01mnot\u001b[39;00m dtype:\n\u001b[0;32m   1891\u001b[0m     result \u001b[38;5;241m=\u001b[39m np\u001b[38;5;241m.\u001b[39marray(result, dtype\u001b[38;5;241m=\u001b[39mdtype, copy\u001b[38;5;241m=\u001b[39m\u001b[38;5;28;01mFalse\u001b[39;00m)\n",
      "File \u001b[1;32mc:\\Users\\Nick Mathew\\anaconda3\\envs\\machine_learning\\Lib\\site-packages\\pandas\\core\\internals\\managers.py:1656\u001b[0m, in \u001b[0;36mBlockManager.as_array\u001b[1;34m(self, dtype, copy, na_value)\u001b[0m\n\u001b[0;32m   1654\u001b[0m         arr\u001b[38;5;241m.\u001b[39mflags\u001b[38;5;241m.\u001b[39mwriteable \u001b[38;5;241m=\u001b[39m \u001b[38;5;28;01mFalse\u001b[39;00m\n\u001b[0;32m   1655\u001b[0m \u001b[38;5;28;01melse\u001b[39;00m:\n\u001b[1;32m-> 1656\u001b[0m     arr \u001b[38;5;241m=\u001b[39m \u001b[38;5;28mself\u001b[39m\u001b[38;5;241m.\u001b[39m_interleave(dtype\u001b[38;5;241m=\u001b[39mdtype, na_value\u001b[38;5;241m=\u001b[39mna_value)\n\u001b[0;32m   1657\u001b[0m     \u001b[38;5;66;03m# The underlying data was copied within _interleave, so no need\u001b[39;00m\n\u001b[0;32m   1658\u001b[0m     \u001b[38;5;66;03m# to further copy if copy=True or setting na_value\u001b[39;00m\n\u001b[0;32m   1660\u001b[0m \u001b[38;5;28;01mif\u001b[39;00m na_value \u001b[38;5;129;01mis\u001b[39;00m lib\u001b[38;5;241m.\u001b[39mno_default:\n",
      "File \u001b[1;32mc:\\Users\\Nick Mathew\\anaconda3\\envs\\machine_learning\\Lib\\site-packages\\pandas\\core\\internals\\managers.py:1715\u001b[0m, in \u001b[0;36mBlockManager._interleave\u001b[1;34m(self, dtype, na_value)\u001b[0m\n\u001b[0;32m   1713\u001b[0m     \u001b[38;5;28;01melse\u001b[39;00m:\n\u001b[0;32m   1714\u001b[0m         arr \u001b[38;5;241m=\u001b[39m blk\u001b[38;5;241m.\u001b[39mget_values(dtype)\n\u001b[1;32m-> 1715\u001b[0m     result[rl\u001b[38;5;241m.\u001b[39mindexer] \u001b[38;5;241m=\u001b[39m arr\n\u001b[0;32m   1716\u001b[0m     itemmask[rl\u001b[38;5;241m.\u001b[39mindexer] \u001b[38;5;241m=\u001b[39m \u001b[38;5;241m1\u001b[39m\n\u001b[0;32m   1718\u001b[0m \u001b[38;5;28;01mif\u001b[39;00m \u001b[38;5;129;01mnot\u001b[39;00m itemmask\u001b[38;5;241m.\u001b[39mall():\n",
      "\u001b[1;31mValueError\u001b[0m: could not convert string to float: 'KOTA MEULABOH'"
     ]
    },
    {
     "data": {
      "text/plain": [
       "<Figure size 1000x1000 with 0 Axes>"
      ]
     },
     "metadata": {},
     "output_type": "display_data"
    }
   ],
   "source": [
    "# plt.figure(figsize=(10,10))\n",
    "# sns.heatmap(df_pendidikan_if_merged.corr(), annot=True)"
   ]
  },
  {
   "cell_type": "code",
   "execution_count": 15,
   "metadata": {},
   "outputs": [
    {
     "data": {
      "text/plain": [
       "index                           int64\n",
       "90 Kota Inflasi (2018=100)     object\n",
       "Januari                       float64\n",
       "Februari                      float64\n",
       "Maret                         float64\n",
       "April                         float64\n",
       "Mei                           float64\n",
       "Juni                          float64\n",
       "Juli                          float64\n",
       "Agustus                       float64\n",
       "September                     float64\n",
       "Oktober                       float64\n",
       "November                      float64\n",
       "Desember                      float64\n",
       "Tahun                           int64\n",
       "dtype: object"
      ]
     },
     "execution_count": 15,
     "metadata": {},
     "output_type": "execute_result"
    }
   ],
   "source": [
    "\n",
    "menengah_if2020 = pd.read_csv('./dataset/Inflasi Pendidikan 2020-Menengah.csv')\n",
    "menengah_if2020['Tahun'] = 2020\n",
    "menengah_if2021 = pd.read_csv('./dataset/Inflasi Pendidikan 2021-Menengah.csv')\n",
    "menengah_if2021['Tahun'] = 2021\n",
    "menengah_if2022 = pd.read_csv('./dataset/Inflasi Pendidikan 2022-Menengah.csv')\n",
    "menengah_if2022['Tahun'] = 2022\n",
    "menengah_if2023 = pd.read_csv('./dataset/Inflasi Pendidikan 2023-Menengah.csv')\n",
    "menengah_if2023['Tahun'] = 2023\n",
    "\n",
    "df_menengah_if_merged = pd.concat([menengah_if2020, menengah_if2021, menengah_if2022, menengah_if2023], sort=False)\n",
    "df_menengah_if_merged.reset_index(drop=False, inplace=True)\n",
    "df_menengah_if_merged.dtypes"
   ]
  },
  {
   "cell_type": "code",
   "execution_count": 16,
   "metadata": {},
   "outputs": [
    {
     "data": {
      "text/plain": [
       "index                           int64\n",
       "90 Kota Inflasi (2018=100)     object\n",
       "Januari                       float64\n",
       "Februari                      float64\n",
       "Maret                         float64\n",
       "April                         float64\n",
       "Mei                           float64\n",
       "Juni                          float64\n",
       "Juli                          float64\n",
       "Agustus                       float64\n",
       "September                     float64\n",
       "Oktober                       float64\n",
       "November                      float64\n",
       "Desember                      float64\n",
       "Tahun                           int64\n",
       "dtype: object"
      ]
     },
     "execution_count": 16,
     "metadata": {},
     "output_type": "execute_result"
    }
   ],
   "source": [
    "\n",
    "tinggi_if2020 = pd.read_csv('./dataset/Inflasi Pendidikan 2020-Menengah.csv')\n",
    "tinggi_if2020['Tahun'] = 2020\n",
    "tinggi_if2021 = pd.read_csv('./dataset/Inflasi Pendidikan 2021-Menengah.csv')\n",
    "tinggi_if2021['Tahun'] = 2021\n",
    "tinggi_if2022 = pd.read_csv('./dataset/Inflasi Pendidikan 2021-Menengah.csv')\n",
    "tinggi_if2022['Tahun'] = 2022\n",
    "tinggi_if2023 = pd.read_csv('./dataset/Inflasi Pendidikan 2021-Menengah.csv')\n",
    "tinggi_if2023['Tahun'] = 2023\n",
    "\n",
    "df_tinggi_if_merged = pd.concat([tinggi_if2020, tinggi_if2021, tinggi_if2022, tinggi_if2023], sort=False)\n",
    "df_tinggi_if_merged.reset_index(drop=False, inplace=True)\n",
    "df_tinggi_if_merged.dtypes"
   ]
  },
  {
   "cell_type": "code",
   "execution_count": 17,
   "metadata": {},
   "outputs": [
    {
     "data": {
      "text/plain": [
       "index                           int64\n",
       "90 Kota Inflasi (2018=100)     object\n",
       "Januari                       float64\n",
       "Februari                      float64\n",
       "Maret                         float64\n",
       "April                         float64\n",
       "Mei                           float64\n",
       "Juni                          float64\n",
       "Juli                          float64\n",
       "Agustus                       float64\n",
       "September                     float64\n",
       "Oktober                       float64\n",
       "November                      float64\n",
       "Desember                      float64\n",
       "Tahun                           int64\n",
       "dtype: object"
      ]
     },
     "execution_count": 17,
     "metadata": {},
     "output_type": "execute_result"
    }
   ],
   "source": [
    "\n",
    "lainnya_if2020 = pd.read_csv('./dataset/Inflasi Pendidikan 2020-Lainnya.csv')\n",
    "lainnya_if2020['Tahun'] = 2020\n",
    "lainnya_if2021 = pd.read_csv('./dataset/Inflasi Pendidikan 2021-Lainnya.csv')\n",
    "lainnya_if2021['Tahun'] = 2021\n",
    "lainnya_if2022 = pd.read_csv('./dataset/Inflasi Pendidikan 2022-Lainnya.csv')\n",
    "lainnya_if2022['Tahun'] = 2022\n",
    "lainnya_if2023 = pd.read_csv('./dataset/Inflasi Pendidikan 2023-Lainnya.csv')\n",
    "lainnya_if2023['Tahun'] = 2023\n",
    "\n",
    "df_lainnya_if_merged = pd.concat([lainnya_if2020, lainnya_if2021, lainnya_if2022, lainnya_if2023], sort=False)\n",
    "df_lainnya_if_merged.reset_index(drop=False, inplace=True)\n",
    "df_lainnya_if_merged.dtypes"
   ]
  },
  {
   "cell_type": "code",
   "execution_count": 19,
   "metadata": {},
   "outputs": [
    {
     "data": {
      "text/plain": [
       "index                          0\n",
       "90 Kota Inflasi (2018=100)     0\n",
       "Januari                        0\n",
       "Februari                       0\n",
       "Maret                          0\n",
       "April                          0\n",
       "Mei                            0\n",
       "Juni                           0\n",
       "Juli                           0\n",
       "Agustus                        0\n",
       "September                      0\n",
       "Oktober                        0\n",
       "November                      91\n",
       "Desember                      91\n",
       "Tahun                          0\n",
       "dtype: int64"
      ]
     },
     "execution_count": 19,
     "metadata": {},
     "output_type": "execute_result"
    }
   ],
   "source": [
    "df_pendidikan_if_merged.isnull().sum()"
   ]
  },
  {
   "cell_type": "code",
   "execution_count": 20,
   "metadata": {},
   "outputs": [
    {
     "data": {
      "text/plain": [
       "index                          0\n",
       "90 Kota Inflasi (2018=100)     0\n",
       "Januari                        0\n",
       "Februari                       0\n",
       "Maret                          0\n",
       "April                          0\n",
       "Mei                            0\n",
       "Juni                           0\n",
       "Juli                           0\n",
       "Agustus                        0\n",
       "September                      0\n",
       "Oktober                        0\n",
       "November                      91\n",
       "Desember                      91\n",
       "Tahun                          0\n",
       "dtype: int64"
      ]
     },
     "execution_count": 20,
     "metadata": {},
     "output_type": "execute_result"
    }
   ],
   "source": [
    "df_menengah_if_merged.isnull().sum()"
   ]
  },
  {
   "cell_type": "code",
   "execution_count": 22,
   "metadata": {},
   "outputs": [
    {
     "data": {
      "text/plain": [
       "index                         0\n",
       "90 Kota Inflasi (2018=100)    0\n",
       "Januari                       0\n",
       "Februari                      0\n",
       "Maret                         0\n",
       "April                         0\n",
       "Mei                           0\n",
       "Juni                          0\n",
       "Juli                          0\n",
       "Agustus                       0\n",
       "September                     0\n",
       "Oktober                       0\n",
       "November                      0\n",
       "Desember                      0\n",
       "Tahun                         0\n",
       "dtype: int64"
      ]
     },
     "execution_count": 22,
     "metadata": {},
     "output_type": "execute_result"
    }
   ],
   "source": [
    "df_tinggi_if_merged.isnull().sum()"
   ]
  },
  {
   "cell_type": "code",
   "execution_count": 23,
   "metadata": {},
   "outputs": [
    {
     "data": {
      "text/plain": [
       "index                          0\n",
       "90 Kota Inflasi (2018=100)     0\n",
       "Januari                        0\n",
       "Februari                       0\n",
       "Maret                          0\n",
       "April                          0\n",
       "Mei                            0\n",
       "Juni                           0\n",
       "Juli                           0\n",
       "Agustus                        0\n",
       "September                      0\n",
       "Oktober                        0\n",
       "November                      91\n",
       "Desember                      91\n",
       "Tahun                          0\n",
       "dtype: int64"
      ]
     },
     "execution_count": 23,
     "metadata": {},
     "output_type": "execute_result"
    }
   ],
   "source": [
    "df_lainnya_if_merged.isnull().sum()"
   ]
  }
 ],
 "metadata": {
  "kernelspec": {
   "display_name": "machine_learning",
   "language": "python",
   "name": "python3"
  },
  "language_info": {
   "codemirror_mode": {
    "name": "ipython",
    "version": 3
   },
   "file_extension": ".py",
   "mimetype": "text/x-python",
   "name": "python",
   "nbconvert_exporter": "python",
   "pygments_lexer": "ipython3",
   "version": "3.11.7"
  }
 },
 "nbformat": 4,
 "nbformat_minor": 2
}
