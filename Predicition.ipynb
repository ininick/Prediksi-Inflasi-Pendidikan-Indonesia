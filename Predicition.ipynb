{
 "cells": [
  {
   "cell_type": "markdown",
   "metadata": {},
   "source": [
    "IMPORT MODULE"
   ]
  },
  {
   "cell_type": "code",
   "execution_count": 1,
   "metadata": {},
   "outputs": [],
   "source": [
    "import pandas as pd\n",
    "import numpy as npt\n",
    "import seaborn as sns\n",
    "from matplotlib import pyplot as plt\n",
    "import statistics as stat\n",
    "from scipy.stats import shapiro\n",
    "import plotly.graph_objs as go\n",
    "from statsmodels.tsa.stattools import adfuller, acf, pacf\n",
    "from statsmodels.graphics.tsaplots import plot_acf, plot_pacf\n",
    "from statsmodels.tsa.arima_model import ARIMA\n",
    "from statsmodels.sandbox.stats.runs import runstest_1samp"
   ]
  },
  {
   "cell_type": "markdown",
   "metadata": {},
   "source": [
    "STORE DATA"
   ]
  },
  {
   "cell_type": "code",
   "execution_count": 19,
   "metadata": {},
   "outputs": [],
   "source": [
    "#INFLASI UMUM\n",
    "df_inflasi = pd.read_csv('./fix_dataset/Data Inflasi 2003 - 2022.csv')\n",
    "df_inflasi_2023 = pd.read_csv('./fix_dataset/Data Inflasi 2023.csv')\n",
    "#INFLASI PENDIDIKAN\n",
    "df_ip_pendidikan_2020 = pd.read_csv('./fix_dataset/dataset_InflasiPendidikan/Inflasi Pendidikan 2020-Pendidikan.csv')\n",
    "df_ip_pendidikan_2021 = pd.read_csv('./fix_dataset/dataset_InflasiPendidikan/Inflasi Pendidikan 2021-Pendidikan.csv')\n",
    "df_ip_pendidikan_2022 = pd.read_csv('./fix_dataset/dataset_InflasiPendidikan/Inflasi Pendidikan 2022-Pendidikan.csv')\n",
    "df_ip_pendidikan_2023 = pd.read_csv('./fix_dataset/dataset_InflasiPendidikan/Inflasi Pendidikan 2023-Pendidikan.csv')\n",
    "\n",
    "df_ip_menengah_2020 = pd.read_csv('./fix_dataset/dataset_InflasiPendidikan/Inflasi Pendidikan 2020-Menengah.csv')\n",
    "df_ip_menengah_2021 = pd.read_csv('./fix_dataset/dataset_InflasiPendidikan/Inflasi Pendidikan 2021-Menengah.csv')\n",
    "df_ip_menengah_2022 = pd.read_csv('./fix_dataset/dataset_InflasiPendidikan/Inflasi Pendidikan 2022-Menengah.csv')\n",
    "df_ip_menengah_2023 = pd.read_csv('./fix_dataset/dataset_InflasiPendidikan/Inflasi Pendidikan 2023-Menengah.csv')\n",
    "\n",
    "df_ip_tinggi_2020 = pd.read_csv('./fix_dataset/dataset_InflasiPendidikan/Inflasi Pendidikan 2020-Tinggi.csv')\n",
    "df_ip_tinggi_2021 = pd.read_csv('./fix_dataset/dataset_InflasiPendidikan/Inflasi Pendidikan 2021-Tinggi.csv')\n",
    "df_ip_tinggi_2022 = pd.read_csv('./fix_dataset/dataset_InflasiPendidikan/Inflasi Pendidikan 2022-Tinggi.csv')\n",
    "df_ip_tinggi_2023 = pd.read_csv('./fix_dataset/dataset_InflasiPendidikan/Inflasi Pendidikan 2023-Tinggi.csv')\n",
    "\n",
    "df_ip_lainnya_2020 = pd.read_csv('./fix_dataset/dataset_InflasiPendidikan/Inflasi Pendidikan 2020-Lainnya.csv')\n",
    "df_ip_lainnya_2021 = pd.read_csv('./fix_dataset/dataset_InflasiPendidikan/Inflasi Pendidikan 2021-Lainnya.csv')\n",
    "df_ip_lainnya_2022 = pd.read_csv('./fix_dataset/dataset_InflasiPendidikan/Inflasi Pendidikan 2022-Lainnya.csv')\n",
    "df_ip_lainnya_2023 = pd.read_csv('./fix_dataset/dataset_InflasiPendidikan/Inflasi Pendidikan 2023-Lainnya.csv')\n",
    "\n"
   ]
  },
  {
   "cell_type": "code",
   "execution_count": null,
   "metadata": {},
   "outputs": [],
   "source": [
    "\n",
    "#INFLASI TAHUN KALENDER PENDIDIKAN\n",
    "df_tp_kurpel_2014 = pd.read_csv('./fix_dataset/dataset-InflasiTahunPendidikan/Inflasi Tahun Pendidikan 2014-Kursus-Kepelatihan.csv')\n",
    "df_tp_pendidikan_2014 = pd.read_csv('./fix_dataset/dataset-InflasiTahunPendidikan/Inflasi Tahun Pendidikan 2014-Pendidikan.csv')\n",
    "df_tp_perlengkapan_2014 = pd.read_csv('./fix_dataset/dataset-InflasiTahunPendidikan/Inflasi Tahun Pendidikan 2014-Perlengkapan.csv')\n",
    "\n",
    "df_tp_kurpel_2015 = pd.read_csv('./fix_dataset/dataset-InflasiTahunPendidikan/Inflasi Tahun Pendidikan 2015-Kursus-Kepelatihan.csv')\n",
    "df_tp_pendidikan_2015 = pd.read_csv('./fix_dataset/dataset-InflasiTahunPendidikan/Inflasi Tahun Pendidikan 2015-Pendidikan.csv')\n",
    "df_tp_perlengkapan_2015 = pd.read_csv('./fix_dataset/dataset-InflasiTahunPendidikan/Inflasi Tahun Pendidikan 2015-Perlengkapan.csv')\n",
    "\n",
    "df_tp_kurpel_2016 = pd.read_csv('./fix_dataset/dataset-InflasiTahunPendidikan/Inflasi Tahun Pendidikan 2016-Kursus-Kepelatihan.csv')\n",
    "df_tp_pendidikan_2016 = pd.read_csv('./fix_dataset/dataset-InflasiTahunPendidikan/Inflasi Tahun Pendidikan 2016-Pendidikan.csv')\n",
    "df_tp_perlengkapan_2016 = pd.read_csv('./fix_dataset/dataset-InflasiTahunPendidikan/Inflasi Tahun Pendidikan 2016-Perlengkapan.csv')\n",
    "\n",
    "df_tp_kurpel_2017 = pd.read_csv('./fix_dataset/dataset-InflasiTahunPendidikan/Inflasi Tahun Pendidikan 2017-Kursus-Kepelatihan.csv')\n",
    "df_tp_pendidikan_2017 = pd.read_csv('./fix_dataset/dataset-InflasiTahunPendidikan/Inflasi Tahun Pendidikan 2017-Pendidikan.csv')\n",
    "df_tp_perlengkapan_2017 = pd.read_csv('./fix_dataset/dataset-InflasiTahunPendidikan/Inflasi Tahun Pendidikan 2017-Perlengkapan.csv')\n",
    "\n",
    "df_tp_kurpel_2018 = pd.read_csv('./fix_dataset/dataset-InflasiTahunPendidikan/Inflasi Tahun Pendidikan 2018-Kursus-Kepelatihan.csv')\n",
    "df_tp_pendidikan_2018 = pd.read_csv('./fix_dataset/dataset-InflasiTahunPendidikan/Inflasi Tahun Pendidikan 2018-Pendidikan.csv')\n",
    "df_tp_perlengkapan_2018 = pd.read_csv('./fix_dataset/dataset-InflasiTahunPendidikan/Inflasi Tahun Pendidikan 2018-Perlengkapan.csv')\n",
    "\n",
    "df_tp_kurpel_2019 = pd.read_csv('./fix_dataset/dataset-InflasiTahunPendidikan/Inflasi Tahun Pendidikan 2019-Kursus-Kepelatihan.csv')\n",
    "df_tp_pendidikan_2019 = pd.read_csv('./fix_dataset/dataset-InflasiTahunPendidikan/Inflasi Tahun Pendidikan 2019-Pendidikan.csv')\n",
    "df_tp_perlengkapan_2019 = pd.read_csv('./fix_dataset/dataset-InflasiTahunPendidikan/Inflasi Tahun Pendidikan 2019-Perlengkapan.csv')"
   ]
  },
  {
   "cell_type": "markdown",
   "metadata": {},
   "source": [
    "# DATA CLEANING"
   ]
  },
  {
   "cell_type": "markdown",
   "metadata": {},
   "source": [
    "* DATA INFLASI UMUM"
   ]
  },
  {
   "cell_type": "code",
   "execution_count": 20,
   "metadata": {},
   "outputs": [
    {
     "data": {
      "text/html": [
       "<div>\n",
       "<style scoped>\n",
       "    .dataframe tbody tr th:only-of-type {\n",
       "        vertical-align: middle;\n",
       "    }\n",
       "\n",
       "    .dataframe tbody tr th {\n",
       "        vertical-align: top;\n",
       "    }\n",
       "\n",
       "    .dataframe thead th {\n",
       "        text-align: right;\n",
       "    }\n",
       "</style>\n",
       "<table border=\"1\" class=\"dataframe\">\n",
       "  <thead>\n",
       "    <tr style=\"text-align: right;\">\n",
       "      <th></th>\n",
       "      <th>Month</th>\n",
       "      <th>Inflasi</th>\n",
       "    </tr>\n",
       "  </thead>\n",
       "  <tbody>\n",
       "    <tr>\n",
       "      <th>0</th>\n",
       "      <td>12/01/2022</td>\n",
       "      <td>5.51 %</td>\n",
       "    </tr>\n",
       "    <tr>\n",
       "      <th>1</th>\n",
       "      <td>11/01/2022</td>\n",
       "      <td>5.42 %</td>\n",
       "    </tr>\n",
       "    <tr>\n",
       "      <th>2</th>\n",
       "      <td>10/01/2022</td>\n",
       "      <td>5.71 %</td>\n",
       "    </tr>\n",
       "    <tr>\n",
       "      <th>3</th>\n",
       "      <td>09/01/2022</td>\n",
       "      <td>5.95 %</td>\n",
       "    </tr>\n",
       "    <tr>\n",
       "      <th>4</th>\n",
       "      <td>08/01/2022</td>\n",
       "      <td>4.69 %</td>\n",
       "    </tr>\n",
       "  </tbody>\n",
       "</table>\n",
       "</div>"
      ],
      "text/plain": [
       "        Month Inflasi\n",
       "0  12/01/2022  5.51 %\n",
       "1  11/01/2022  5.42 %\n",
       "2  10/01/2022  5.71 %\n",
       "3  09/01/2022  5.95 %\n",
       "4  08/01/2022  4.69 %"
      ]
     },
     "execution_count": 20,
     "metadata": {},
     "output_type": "execute_result"
    }
   ],
   "source": [
    "df_inflasi.head()"
   ]
  },
  {
   "cell_type": "code",
   "execution_count": 21,
   "metadata": {},
   "outputs": [],
   "source": [
    "#Clean data, object->date and float\n",
    "df_inflasi[\"Inflasi\"] = df_inflasi[\"Inflasi\"].str.replace(\" %\", \"\")\n",
    "df_inflasi[\"Inflasi\"] = pd.to_numeric(df_inflasi[\"Inflasi\"], errors=\"coerce\")\n",
    "df_inflasi['Inflasi'] = df_inflasi['Inflasi'] * 0.01"
   ]
  },
  {
   "cell_type": "code",
   "execution_count": 30,
   "metadata": {},
   "outputs": [],
   "source": [
    "df_inflasi['Month'] = pd.to_datetime(df_inflasi['Month'], format='%m/%d/%Y')"
   ]
  },
  {
   "cell_type": "code",
   "execution_count": 31,
   "metadata": {},
   "outputs": [
    {
     "data": {
      "text/html": [
       "<div>\n",
       "<style scoped>\n",
       "    .dataframe tbody tr th:only-of-type {\n",
       "        vertical-align: middle;\n",
       "    }\n",
       "\n",
       "    .dataframe tbody tr th {\n",
       "        vertical-align: top;\n",
       "    }\n",
       "\n",
       "    .dataframe thead th {\n",
       "        text-align: right;\n",
       "    }\n",
       "</style>\n",
       "<table border=\"1\" class=\"dataframe\">\n",
       "  <thead>\n",
       "    <tr style=\"text-align: right;\">\n",
       "      <th></th>\n",
       "      <th>Month</th>\n",
       "      <th>Inflasi</th>\n",
       "    </tr>\n",
       "  </thead>\n",
       "  <tbody>\n",
       "    <tr>\n",
       "      <th>0</th>\n",
       "      <td>2022-12-01</td>\n",
       "      <td>0.0551</td>\n",
       "    </tr>\n",
       "    <tr>\n",
       "      <th>1</th>\n",
       "      <td>2022-11-01</td>\n",
       "      <td>0.0542</td>\n",
       "    </tr>\n",
       "    <tr>\n",
       "      <th>2</th>\n",
       "      <td>2022-10-01</td>\n",
       "      <td>0.0571</td>\n",
       "    </tr>\n",
       "    <tr>\n",
       "      <th>3</th>\n",
       "      <td>2022-09-01</td>\n",
       "      <td>0.0595</td>\n",
       "    </tr>\n",
       "    <tr>\n",
       "      <th>4</th>\n",
       "      <td>2022-08-01</td>\n",
       "      <td>0.0469</td>\n",
       "    </tr>\n",
       "    <tr>\n",
       "      <th>...</th>\n",
       "      <td>...</td>\n",
       "      <td>...</td>\n",
       "    </tr>\n",
       "    <tr>\n",
       "      <th>235</th>\n",
       "      <td>2003-05-01</td>\n",
       "      <td>0.0715</td>\n",
       "    </tr>\n",
       "    <tr>\n",
       "      <th>236</th>\n",
       "      <td>2003-04-01</td>\n",
       "      <td>0.0762</td>\n",
       "    </tr>\n",
       "    <tr>\n",
       "      <th>237</th>\n",
       "      <td>2003-03-01</td>\n",
       "      <td>0.0717</td>\n",
       "    </tr>\n",
       "    <tr>\n",
       "      <th>238</th>\n",
       "      <td>2003-02-01</td>\n",
       "      <td>0.0760</td>\n",
       "    </tr>\n",
       "    <tr>\n",
       "      <th>239</th>\n",
       "      <td>2003-01-01</td>\n",
       "      <td>0.0868</td>\n",
       "    </tr>\n",
       "  </tbody>\n",
       "</table>\n",
       "<p>240 rows × 2 columns</p>\n",
       "</div>"
      ],
      "text/plain": [
       "         Month  Inflasi\n",
       "0   2022-12-01   0.0551\n",
       "1   2022-11-01   0.0542\n",
       "2   2022-10-01   0.0571\n",
       "3   2022-09-01   0.0595\n",
       "4   2022-08-01   0.0469\n",
       "..         ...      ...\n",
       "235 2003-05-01   0.0715\n",
       "236 2003-04-01   0.0762\n",
       "237 2003-03-01   0.0717\n",
       "238 2003-02-01   0.0760\n",
       "239 2003-01-01   0.0868\n",
       "\n",
       "[240 rows x 2 columns]"
      ]
     },
     "execution_count": 31,
     "metadata": {},
     "output_type": "execute_result"
    }
   ],
   "source": [
    "df_inflasi"
   ]
  },
  {
   "cell_type": "code",
   "execution_count": 24,
   "metadata": {},
   "outputs": [
    {
     "data": {
      "text/html": [
       "<div>\n",
       "<style scoped>\n",
       "    .dataframe tbody tr th:only-of-type {\n",
       "        vertical-align: middle;\n",
       "    }\n",
       "\n",
       "    .dataframe tbody tr th {\n",
       "        vertical-align: top;\n",
       "    }\n",
       "\n",
       "    .dataframe thead th {\n",
       "        text-align: right;\n",
       "    }\n",
       "</style>\n",
       "<table border=\"1\" class=\"dataframe\">\n",
       "  <thead>\n",
       "    <tr style=\"text-align: right;\">\n",
       "      <th></th>\n",
       "      <th>Month</th>\n",
       "      <th>Inflasi</th>\n",
       "    </tr>\n",
       "  </thead>\n",
       "  <tbody>\n",
       "    <tr>\n",
       "      <th>0</th>\n",
       "      <td>12/01/2023</td>\n",
       "      <td>2.61 %</td>\n",
       "    </tr>\n",
       "    <tr>\n",
       "      <th>1</th>\n",
       "      <td>11/01/2023</td>\n",
       "      <td>2.86 %</td>\n",
       "    </tr>\n",
       "    <tr>\n",
       "      <th>2</th>\n",
       "      <td>10/01/2023</td>\n",
       "      <td>2.56 %</td>\n",
       "    </tr>\n",
       "    <tr>\n",
       "      <th>3</th>\n",
       "      <td>09/01/2023</td>\n",
       "      <td>2.28 %</td>\n",
       "    </tr>\n",
       "    <tr>\n",
       "      <th>4</th>\n",
       "      <td>08/01/2023</td>\n",
       "      <td>3.27 %</td>\n",
       "    </tr>\n",
       "  </tbody>\n",
       "</table>\n",
       "</div>"
      ],
      "text/plain": [
       "        Month Inflasi\n",
       "0  12/01/2023  2.61 %\n",
       "1  11/01/2023  2.86 %\n",
       "2  10/01/2023  2.56 %\n",
       "3  09/01/2023  2.28 %\n",
       "4  08/01/2023  3.27 %"
      ]
     },
     "execution_count": 24,
     "metadata": {},
     "output_type": "execute_result"
    }
   ],
   "source": [
    "df_inflasi_2023.head()"
   ]
  },
  {
   "cell_type": "code",
   "execution_count": 25,
   "metadata": {},
   "outputs": [],
   "source": [
    "#Clean data, object->date and float\n",
    "df_inflasi_2023[\"Inflasi\"] = df_inflasi_2023[\"Inflasi\"].str.replace(\" %\", \"\")\n",
    "df_inflasi_2023[\"Inflasi\"] = pd.to_numeric(df_inflasi_2023[\"Inflasi\"], errors=\"coerce\")\n",
    "df_inflasi_2023['Inflasi'] = df_inflasi_2023['Inflasi'] * 0.01"
   ]
  },
  {
   "cell_type": "code",
   "execution_count": 32,
   "metadata": {},
   "outputs": [],
   "source": [
    "df_inflasi_2023['Month'] = pd.to_datetime(df_inflasi_2023['Month'], format='%m/%d/%Y')"
   ]
  },
  {
   "cell_type": "code",
   "execution_count": 33,
   "metadata": {},
   "outputs": [
    {
     "data": {
      "text/html": [
       "<div>\n",
       "<style scoped>\n",
       "    .dataframe tbody tr th:only-of-type {\n",
       "        vertical-align: middle;\n",
       "    }\n",
       "\n",
       "    .dataframe tbody tr th {\n",
       "        vertical-align: top;\n",
       "    }\n",
       "\n",
       "    .dataframe thead th {\n",
       "        text-align: right;\n",
       "    }\n",
       "</style>\n",
       "<table border=\"1\" class=\"dataframe\">\n",
       "  <thead>\n",
       "    <tr style=\"text-align: right;\">\n",
       "      <th></th>\n",
       "      <th>Month</th>\n",
       "      <th>Inflasi</th>\n",
       "    </tr>\n",
       "  </thead>\n",
       "  <tbody>\n",
       "    <tr>\n",
       "      <th>0</th>\n",
       "      <td>2023-12-01</td>\n",
       "      <td>0.0261</td>\n",
       "    </tr>\n",
       "    <tr>\n",
       "      <th>1</th>\n",
       "      <td>2023-11-01</td>\n",
       "      <td>0.0286</td>\n",
       "    </tr>\n",
       "    <tr>\n",
       "      <th>2</th>\n",
       "      <td>2023-10-01</td>\n",
       "      <td>0.0256</td>\n",
       "    </tr>\n",
       "    <tr>\n",
       "      <th>3</th>\n",
       "      <td>2023-09-01</td>\n",
       "      <td>0.0228</td>\n",
       "    </tr>\n",
       "    <tr>\n",
       "      <th>4</th>\n",
       "      <td>2023-08-01</td>\n",
       "      <td>0.0327</td>\n",
       "    </tr>\n",
       "    <tr>\n",
       "      <th>5</th>\n",
       "      <td>2023-07-01</td>\n",
       "      <td>0.0308</td>\n",
       "    </tr>\n",
       "    <tr>\n",
       "      <th>6</th>\n",
       "      <td>2023-06-01</td>\n",
       "      <td>0.0352</td>\n",
       "    </tr>\n",
       "    <tr>\n",
       "      <th>7</th>\n",
       "      <td>2023-05-01</td>\n",
       "      <td>0.0400</td>\n",
       "    </tr>\n",
       "    <tr>\n",
       "      <th>8</th>\n",
       "      <td>2023-04-01</td>\n",
       "      <td>0.0433</td>\n",
       "    </tr>\n",
       "    <tr>\n",
       "      <th>9</th>\n",
       "      <td>2023-03-01</td>\n",
       "      <td>0.0497</td>\n",
       "    </tr>\n",
       "    <tr>\n",
       "      <th>10</th>\n",
       "      <td>2023-02-01</td>\n",
       "      <td>0.0547</td>\n",
       "    </tr>\n",
       "    <tr>\n",
       "      <th>11</th>\n",
       "      <td>2023-01-01</td>\n",
       "      <td>0.0528</td>\n",
       "    </tr>\n",
       "  </tbody>\n",
       "</table>\n",
       "</div>"
      ],
      "text/plain": [
       "        Month  Inflasi\n",
       "0  2023-12-01   0.0261\n",
       "1  2023-11-01   0.0286\n",
       "2  2023-10-01   0.0256\n",
       "3  2023-09-01   0.0228\n",
       "4  2023-08-01   0.0327\n",
       "5  2023-07-01   0.0308\n",
       "6  2023-06-01   0.0352\n",
       "7  2023-05-01   0.0400\n",
       "8  2023-04-01   0.0433\n",
       "9  2023-03-01   0.0497\n",
       "10 2023-02-01   0.0547\n",
       "11 2023-01-01   0.0528"
      ]
     },
     "execution_count": 33,
     "metadata": {},
     "output_type": "execute_result"
    }
   ],
   "source": [
    "df_inflasi_2023"
   ]
  },
  {
   "cell_type": "code",
   "execution_count": 34,
   "metadata": {},
   "outputs": [
    {
     "name": "stdout",
     "output_type": "stream",
     "text": [
      "Data Inflasi Umum 2003-2022:\n",
      " Month      datetime64[ns]\n",
      "Inflasi           float64\n",
      "dtype: object\n",
      "Data Inflasi Umum 2023:\n",
      " Month      datetime64[ns]\n",
      "Inflasi           float64\n",
      "dtype: object\n"
     ]
    }
   ],
   "source": [
    "print('Data Inflasi Umum 2003-2022:\\n',df_inflasi.dtypes)\n",
    "print('Data Inflasi Umum 2023:\\n',df_inflasi_2023.dtypes)"
   ]
  }
 ],
 "metadata": {
  "kernelspec": {
   "display_name": "machine_learning",
   "language": "python",
   "name": "python3"
  },
  "language_info": {
   "codemirror_mode": {
    "name": "ipython",
    "version": 3
   },
   "file_extension": ".py",
   "mimetype": "text/x-python",
   "name": "python",
   "nbconvert_exporter": "python",
   "pygments_lexer": "ipython3",
   "version": "3.11.7"
  }
 },
 "nbformat": 4,
 "nbformat_minor": 2
}
